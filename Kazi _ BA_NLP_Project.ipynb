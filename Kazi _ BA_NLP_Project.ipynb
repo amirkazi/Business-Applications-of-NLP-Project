{
 "cells": [
  {
   "cell_type": "code",
   "execution_count": 105,
   "metadata": {},
   "outputs": [
    {
     "data": {
      "text/plain": [
       "'\\nPreliminary code for project\\nAmir Akhter Kazi\\n\\nPrimary resource for NLTK: https://www.nltk.org/index.html\\nPrimary resource for Gensim: https://radimrehurek.com/gensim/\\n\\n'"
      ]
     },
     "execution_count": 105,
     "metadata": {},
     "output_type": "execute_result"
    }
   ],
   "source": [
    "'''\n",
    "Preliminary code for project\n",
    "Amir Akhter Kazi\n",
    "\n",
    "Primary resource for NLTK: https://www.nltk.org/index.html\n",
    "Primary resource for Gensim: https://radimrehurek.com/gensim/\n",
    "\n",
    "'''"
   ]
  },
  {
   "cell_type": "code",
   "execution_count": 4,
   "metadata": {
    "collapsed": true
   },
   "outputs": [],
   "source": [
    "import nltk\n",
    "from nltk.corpus import treebank\n",
    "from nltk import word_tokenize, sent_tokenize\n",
    "from nltk.corpus import stopwords\n",
    "#from nltk.stem import LancasterStemmer, WordNetLemmatizer\n",
    "\n",
    "\n",
    "from nltk.corpus import stopwords \n",
    "#from nltk.corpus import wordnet as wn\n",
    "#from nltk import wordpunct_tokenize\n",
    "#from nltk import WordNetLemmatizer\n",
    "#from nltk import sent_tokenize\n",
    "from nltk import pos_tag\n",
    "\n",
    "from nltk.stem import RSLPStemmer\n",
    "\n",
    "\n",
    "\n",
    "from gensim import corpora\n"
   ]
  },
  {
   "cell_type": "code",
   "execution_count": 9,
   "metadata": {
    "collapsed": true
   },
   "outputs": [],
   "source": [
    "f = open('PPP_Manifesto_2013.txt','r')"
   ]
  },
  {
   "cell_type": "code",
   "execution_count": 16,
   "metadata": {
    "collapsed": true
   },
   "outputs": [],
   "source": [
    "f = open('PMLN_Manifesto_2013.txt','r')"
   ]
  },
  {
   "cell_type": "code",
   "execution_count": 20,
   "metadata": {
    "collapsed": true
   },
   "outputs": [],
   "source": [
    "f = open('PTI_Manifesto_2013.txt','r')\n"
   ]
  },
  {
   "cell_type": "code",
   "execution_count": 32,
   "metadata": {
    "collapsed": true
   },
   "outputs": [],
   "source": [
    "\n",
    "f = open('JI_2013.txt','r')"
   ]
  },
  {
   "cell_type": "code",
   "execution_count": 33,
   "metadata": {},
   "outputs": [
    {
     "data": {
      "text/plain": [
       "<_io.TextIOWrapper name='JI_2013.txt' mode='r' encoding='UTF-8'>"
      ]
     },
     "execution_count": 33,
     "metadata": {},
     "output_type": "execute_result"
    }
   ],
   "source": [
    "f"
   ]
  },
  {
   "cell_type": "code",
   "execution_count": 34,
   "metadata": {
    "collapsed": true
   },
   "outputs": [],
   "source": [
    "message = f.read()"
   ]
  },
  {
   "cell_type": "code",
   "execution_count": 38,
   "metadata": {},
   "outputs": [
    {
     "data": {
      "text/plain": [
       "' \\n\\nManifesto\\n\\nJamaat- --e Islami Pakistan\\n\\n4? WM\\n\\nES J .\\n\\'\\n\\n \\n\\nH . u 1* F. I. 1\\'\\n\\n \\n\\ni“! \"n WNW \"i”! 11*\\n\\n \\n\\n \\n\\n \\n\\n   \\n\\nIssued: March 2013\\n\\nManifesto\\n\\nJamaat—e-lslami Pakistan\\n\\nJamaat-e-Islami Pakistan\\nMansaurah Lahore (Pakistan)\\n\\nP11: 342-3541952324, 35432391, Fax: 342-35432194\\nEmail: amir@ji.0rg.pk. Uri: www.jamaatﬂrg\\n\\nm JIP ﬂﬁimal @JIPErl\\'fi-zial\\n\\n \\n\\n \\n\\n \\n\\nrllg\\n\\nQ\\n“wm‘\\n\\n \\n\\nPublished by:\\n\\nDeptt. Of Public Relations\\n\\nJamaat-e-Islami Pakistan\\nMansoorah Lahore (Pakistan)\\n\\nManifesto\\n\\nJamai-e-Islami Faklatan\\n\\nPh: 042—3541952324, 35432391,\\nFax: 0&2—35432194\\nEmail: amlr@ji.0rg.pk, Url: wwjamaatorg\\n\\ni] JiF ﬂﬁiﬂial . @JIPﬂﬁiﬂial\\n\\n \\n\\n \\n\\n \\n\\n \\n\\n#Lg-i ’3 E\\'E\\'g-ﬁ’JPF-gjaal\\' 5:\\n\\nH-\\n\\n3s);\\n\\n:Ullaii: E&MwiJIJMb1;&QH¢Ui\\n(ehﬁ. LJJIJ tiéiﬁfo 5\\'3\"\\n\\nIndeed, Allah eemmende you to render trusts to whom they are due\\nand when you judge be’meen people to judge with justice. Excellent is\\nthat which Allah instructs you. Indeed, Allah is ever Hearing and Seeing.\\n\\nEE;EJH;WE’MHHLNJJY1fP+§JJ1£4.31\\n\\ng_§1¢\\n\\nJ;\\'§13J:LPA'"
      ]
     },
     "execution_count": 38,
     "metadata": {},
     "output_type": "execute_result"
    }
   ],
   "source": [
    "message[:1000]"
   ]
  },
  {
   "cell_type": "code",
   "execution_count": 7,
   "metadata": {},
   "outputs": [
    {
     "data": {
      "text/plain": [
       "<_io.TextIOWrapper name='PPP_Manifesto_2013.txt' mode='r' encoding='UTF-8'>"
      ]
     },
     "execution_count": 7,
     "metadata": {},
     "output_type": "execute_result"
    }
   ],
   "source": [
    "f"
   ]
  },
  {
   "cell_type": "code",
   "execution_count": 8,
   "metadata": {
    "collapsed": true
   },
   "outputs": [],
   "source": [
    "text = 'Today, the people of Pakistan are proud to claim that their elected representatives have completed their term of five years. The sovereign will of the people has prevailed in completing the first constitutional and peaceful transiti on, and this is indeed a great and historic achievement.At every step we faced hurdles but we successfully averted many conspiracies against the mandate of the people of Pakistan. Our task ahead is strewn with challenges but we remain answerable to the people and the great electorate of Pakistan.'"
   ]
  },
  {
   "cell_type": "code",
   "execution_count": 13,
   "metadata": {},
   "outputs": [],
   "source": [
    "### Tokenizing words\n",
    "words = nltk.word_tokenize(text)\n",
    "\n",
    "### Removing punctuation and only keeping words\n",
    "words=[word.lower() for word in words if word.isalpha()]"
   ]
  },
  {
   "cell_type": "code",
   "execution_count": 14,
   "metadata": {},
   "outputs": [
    {
     "name": "stdout",
     "output_type": "stream",
     "text": [
      "['today', 'the', 'people', 'of', 'pakistan', 'are', 'proud', 'to', 'claim', 'that', 'their', 'elected', 'representatives', 'have', 'completed', 'their', 'term', 'of', 'five', 'years', 'the', 'sovereign', 'will', 'of', 'the', 'people', 'has', 'prevailed', 'in', 'completing', 'the', 'first', 'constitutional', 'and', 'peaceful', 'transiti', 'on', 'and', 'this', 'is', 'indeed', 'a', 'great', 'and', 'historic', 'every', 'step', 'we', 'faced', 'hurdles', 'but', 'we', 'successfully', 'averted', 'many', 'conspiracies', 'against', 'the', 'mandate', 'of', 'the', 'people', 'of', 'pakistan', 'our', 'task', 'ahead', 'is', 'strewn', 'with', 'challenges', 'but', 'we', 'remain', 'answerable', 'to', 'the', 'people', 'and', 'the', 'great', 'electorate', 'of', 'pakistan']\n"
     ]
    }
   ],
   "source": [
    "print (words)"
   ]
  },
  {
   "cell_type": "code",
   "execution_count": 22,
   "metadata": {},
   "outputs": [],
   "source": [
    "### Filtering stop words \n",
    "stop_words = set(stopwords.words('english'))\n",
    "#filtered_text = set(w for w in words if not w in stop_words)\n",
    "filtered_text = [w for w in words if not w in stop_words]"
   ]
  },
  {
   "cell_type": "code",
   "execution_count": 23,
   "metadata": {},
   "outputs": [
    {
     "data": {
      "text/plain": [
       "43"
      ]
     },
     "execution_count": 23,
     "metadata": {},
     "output_type": "execute_result"
    }
   ],
   "source": [
    "len(filtered_text)"
   ]
  },
  {
   "cell_type": "code",
   "execution_count": 118,
   "metadata": {},
   "outputs": [
    {
     "name": "stdout",
     "output_type": "stream",
     "text": [
      "['today', 'people', 'pakistan', 'proud', 'claim', 'elected', 'representatives', 'completed', 'term', 'five', 'years', 'sovereign', 'people', 'prevailed', 'completing', 'first', 'constitutional', 'peaceful', 'transiti', 'indeed', 'great', 'historic', 'every', 'step', 'faced', 'hurdles', 'successfully', 'averted', 'many', 'conspiracies', 'mandate', 'people', 'pakistan', 'task', 'ahead', 'strewn', 'challenges', 'remain', 'answerable', 'people', 'great', 'electorate', 'pakistan']\n"
     ]
    }
   ],
   "source": [
    "print (filtered_text)"
   ]
  },
  {
   "cell_type": "code",
   "execution_count": 111,
   "metadata": {
    "collapsed": true
   },
   "outputs": [],
   "source": [
    "### Stemming Words\n",
    "st = RSLPStemmer()\n",
    "stemmed_list = [st.stem(token) for token in filtered_text]"
   ]
  },
  {
   "cell_type": "code",
   "execution_count": 119,
   "metadata": {},
   "outputs": [
    {
     "name": "stdout",
     "output_type": "stream",
     "text": [
      "['today', 'peopl', 'pakistan', 'proud', 'claim', 'elected', 'representativ', 'completed', 'term', 'fiv', 'ye', 'sovereign', 'peopl', 'prevailed', 'completing', 'first', 'constitut', 'peaceful', 'transit', 'indeed', 'great', 'historic', 'every', 'step', 'faced', 'hurdl', 'successfully', 'averted', 'many', 'conspiraci', 'mandat', 'peopl', 'pakistan', 'task', 'ahead', 'strewn', 'challeng', 'remain', 'answerabl', 'peopl', 'great', 'electorat', 'pakistan']\n"
     ]
    }
   ],
   "source": [
    "print (stemmed_list)"
   ]
  },
  {
   "cell_type": "code",
   "execution_count": 100,
   "metadata": {
    "collapsed": true
   },
   "outputs": [],
   "source": [
    "### Parts of speech tagging\n",
    "### Note: This can't be done after removing stop words. So have to use original tokenization \n",
    "tagged = nltk.pos_tag(words)"
   ]
  },
  {
   "cell_type": "code",
   "execution_count": 101,
   "metadata": {},
   "outputs": [
    {
     "name": "stdout",
     "output_type": "stream",
     "text": [
      "[('today', 'NN'), ('the', 'DT'), ('people', 'NNS'), ('of', 'IN'), ('pakistan', 'NN'), ('are', 'VBP'), ('proud', 'JJ'), ('to', 'TO'), ('claim', 'VB'), ('that', 'IN'), ('their', 'PRP$'), ('elected', 'VBN'), ('representatives', 'NNS'), ('have', 'VBP'), ('completed', 'VBN'), ('their', 'PRP$'), ('term', 'NN'), ('of', 'IN'), ('five', 'CD'), ('years', 'NNS'), ('the', 'DT'), ('sovereign', 'NN'), ('will', 'MD'), ('of', 'IN'), ('the', 'DT'), ('people', 'NNS'), ('has', 'VBZ'), ('prevailed', 'VBN'), ('in', 'IN'), ('completing', 'VBG'), ('the', 'DT'), ('first', 'JJ'), ('constitutional', 'JJ'), ('and', 'CC'), ('peaceful', 'JJ'), ('transiti', 'NN'), ('on', 'IN'), ('and', 'CC'), ('this', 'DT'), ('is', 'VBZ'), ('indeed', 'RB'), ('a', 'DT'), ('great', 'JJ'), ('and', 'CC'), ('historic', 'JJ'), ('every', 'DT'), ('step', 'NN'), ('we', 'PRP'), ('faced', 'VBD'), ('hurdles', 'NNS'), ('but', 'CC'), ('we', 'PRP'), ('successfully', 'RB'), ('averted', 'VBD'), ('many', 'JJ'), ('conspiracies', 'NNS'), ('against', 'IN'), ('the', 'DT'), ('mandate', 'NN'), ('of', 'IN'), ('the', 'DT'), ('people', 'NNS'), ('of', 'IN'), ('pakistan', 'JJ'), ('our', 'PRP$'), ('task', 'NN'), ('ahead', 'RB'), ('is', 'VBZ'), ('strewn', 'JJ'), ('with', 'IN'), ('challenges', 'NNS'), ('but', 'CC'), ('we', 'PRP'), ('remain', 'VBP'), ('answerable', 'JJ'), ('to', 'TO'), ('the', 'DT'), ('people', 'NNS'), ('and', 'CC'), ('the', 'DT'), ('great', 'JJ'), ('electorate', 'NN'), ('of', 'IN'), ('pakistan', 'NN')]\n"
     ]
    }
   ],
   "source": [
    "print (tagged)"
   ]
  },
  {
   "cell_type": "code",
   "execution_count": 115,
   "metadata": {},
   "outputs": [
    {
     "name": "stdout",
     "output_type": "stream",
     "text": [
      "Tree('S', [('today', 'NN'), ('the', 'DT'), ('people', 'NNS'), ('of', 'IN'), ('pakistan', 'NN'), ('are', 'VBP'), ('proud', 'JJ'), ('to', 'TO'), ('claim', 'VB'), ('that', 'IN'), ('their', 'PRP$'), ('elected', 'VBN'), ('representatives', 'NNS'), ('have', 'VBP'), ('completed', 'VBN'), ('their', 'PRP$'), ('term', 'NN'), ('of', 'IN'), ('five', 'CD'), ('years', 'NNS'), ('the', 'DT'), ('sovereign', 'NN'), ('will', 'MD'), ('of', 'IN'), ('the', 'DT'), ('people', 'NNS'), ('has', 'VBZ'), ('prevailed', 'VBN'), ('in', 'IN'), ('completing', 'VBG'), ('the', 'DT'), ('first', 'JJ'), ('constitutional', 'JJ'), ('and', 'CC'), ('peaceful', 'JJ'), ('transiti', 'NN'), ('on', 'IN'), ('and', 'CC'), ('this', 'DT'), ('is', 'VBZ'), ('indeed', 'RB'), ('a', 'DT'), ('great', 'JJ'), ('and', 'CC'), ('historic', 'JJ'), ('every', 'DT'), ('step', 'NN'), ('we', 'PRP'), ('faced', 'VBD'), ('hurdles', 'NNS'), ('but', 'CC'), ('we', 'PRP'), ('successfully', 'RB'), ('averted', 'VBD'), ('many', 'JJ'), ('conspiracies', 'NNS'), ('against', 'IN'), ('the', 'DT'), ('mandate', 'NN'), ('of', 'IN'), ('the', 'DT'), ('people', 'NNS'), ('of', 'IN'), ('pakistan', 'JJ'), ('our', 'PRP$'), ('task', 'NN'), ('ahead', 'RB'), ('is', 'VBZ'), ('strewn', 'JJ'), ('with', 'IN'), ('challenges', 'NNS'), ('but', 'CC'), ('we', 'PRP'), ('remain', 'VBP'), ('answerable', 'JJ'), ('to', 'TO'), ('the', 'DT'), ('people', 'NNS'), ('and', 'CC'), ('the', 'DT'), ('great', 'JJ'), ('electorate', 'NN'), ('of', 'IN'), ('pakistan', 'NN')])\n"
     ]
    }
   ],
   "source": [
    "### Entity creation\n",
    "\n",
    "### need to work on this\n",
    "entities = nltk.chunk.ne_chunk(tagged)\n",
    "print (entities.__repr__())"
   ]
  },
  {
   "cell_type": "code",
   "execution_count": 114,
   "metadata": {},
   "outputs": [
    {
     "data": {
      "text/plain": [
       "FreqDist({'ahead': 1,\n",
       "          'answerable': 1,\n",
       "          'averted': 1,\n",
       "          'challenges': 1,\n",
       "          'claim': 1,\n",
       "          'completed': 1,\n",
       "          'completing': 1,\n",
       "          'conspiracies': 1,\n",
       "          'constitutional': 1,\n",
       "          'elected': 1,\n",
       "          'electorate': 1,\n",
       "          'every': 1,\n",
       "          'faced': 1,\n",
       "          'first': 1,\n",
       "          'five': 1,\n",
       "          'great': 2,\n",
       "          'historic': 1,\n",
       "          'hurdles': 1,\n",
       "          'indeed': 1,\n",
       "          'mandate': 1,\n",
       "          'many': 1,\n",
       "          'pakistan': 3,\n",
       "          'peaceful': 1,\n",
       "          'people': 4,\n",
       "          'prevailed': 1,\n",
       "          'proud': 1,\n",
       "          'remain': 1,\n",
       "          'representatives': 1,\n",
       "          'sovereign': 1,\n",
       "          'step': 1,\n",
       "          'strewn': 1,\n",
       "          'successfully': 1,\n",
       "          'task': 1,\n",
       "          'term': 1,\n",
       "          'today': 1,\n",
       "          'transiti': 1,\n",
       "          'years': 1})"
      ]
     },
     "metadata": {},
     "output_type": "display_data"
    }
   ],
   "source": [
    "### Word Frequency of a given text\n",
    "\n",
    "word_frequency = nltk.FreqDist(filtered_text)\n",
    "display (word_frequency)"
   ]
  },
  {
   "cell_type": "code",
   "execution_count": 24,
   "metadata": {},
   "outputs": [
    {
     "data": {
      "text/plain": [
       "FreqDist({'ahead': 1,\n",
       "          'answerable': 1,\n",
       "          'averted': 1,\n",
       "          'challenges': 1,\n",
       "          'claim': 1,\n",
       "          'completed': 1,\n",
       "          'completing': 1,\n",
       "          'conspiracies': 1,\n",
       "          'constitutional': 1,\n",
       "          'elected': 1,\n",
       "          'electorate': 1,\n",
       "          'every': 1,\n",
       "          'faced': 1,\n",
       "          'first': 1,\n",
       "          'five': 1,\n",
       "          'great': 2,\n",
       "          'historic': 1,\n",
       "          'hurdles': 1,\n",
       "          'indeed': 1,\n",
       "          'mandate': 1,\n",
       "          'many': 1,\n",
       "          'pakistan': 3,\n",
       "          'peaceful': 1,\n",
       "          'people': 4,\n",
       "          'prevailed': 1,\n",
       "          'proud': 1,\n",
       "          'remain': 1,\n",
       "          'representatives': 1,\n",
       "          'sovereign': 1,\n",
       "          'step': 1,\n",
       "          'strewn': 1,\n",
       "          'successfully': 1,\n",
       "          'task': 1,\n",
       "          'term': 1,\n",
       "          'today': 1,\n",
       "          'transiti': 1,\n",
       "          'years': 1})"
      ]
     },
     "execution_count": 24,
     "metadata": {},
     "output_type": "execute_result"
    }
   ],
   "source": [
    "nltk.FreqDist(filtered_text)"
   ]
  },
  {
   "cell_type": "code",
   "execution_count": 116,
   "metadata": {
    "collapsed": true
   },
   "outputs": [],
   "source": [
    "### Create word clouds \n",
    "### Have code\n",
    "\n"
   ]
  },
  {
   "cell_type": "code",
   "execution_count": 48,
   "metadata": {
    "collapsed": true
   },
   "outputs": [],
   "source": [
    "import os\n",
    "import nltk\n",
    "\n",
    "class Manifesto(object):\n",
    "    def __init__(self, file_path):\n",
    "        self.text = self.reading_file (file_path)\n",
    "\n",
    "    def reading_file (self, file_path):\n",
    "        assert os.path.exists(file_path), \"Did not find the file at: \"+str(file_path)\n",
    "        f = open(file_path,'r')    \n",
    "        text = f.read()\n",
    "        f.close()\n",
    "        return text"
   ]
  },
  {
   "cell_type": "code",
   "execution_count": 49,
   "metadata": {
    "collapsed": true
   },
   "outputs": [],
   "source": [
    "ppp = Manifesto('/Users/kazi/Desktop/Manifesto Text Files/PPP_2013.txt')"
   ]
  },
  {
   "cell_type": "code",
   "execution_count": null,
   "metadata": {
    "collapsed": true
   },
   "outputs": [],
   "source": []
  }
 ],
 "metadata": {
  "kernelspec": {
   "display_name": "Python 3",
   "language": "python",
   "name": "python3"
  },
  "language_info": {
   "codemirror_mode": {
    "name": "ipython",
    "version": 3
   },
   "file_extension": ".py",
   "mimetype": "text/x-python",
   "name": "python",
   "nbconvert_exporter": "python",
   "pygments_lexer": "ipython3",
   "version": "3.6.3"
  }
 },
 "nbformat": 4,
 "nbformat_minor": 2
}
